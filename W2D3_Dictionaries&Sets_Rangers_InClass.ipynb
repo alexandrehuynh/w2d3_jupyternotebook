{
 "cells": [
  {
   "cell_type": "markdown",
   "metadata": {},
   "source": [
    "# Dictionaries & Sets"
   ]
  },
  {
   "cell_type": "markdown",
   "metadata": {},
   "source": [
    "## Tasks Today:\n",
    "\n",
    "1) Dictionary <br>\n",
    " &nbsp;&nbsp;&nbsp;&nbsp; a) Declaring (key, value) <br>\n",
    " &nbsp;&nbsp;&nbsp;&nbsp; b) Accessing Values <br>\n",
    " &nbsp;&nbsp;&nbsp;&nbsp; ------ Exercise #1 - Print the eye color of each person in a double nested dict <br>\n",
    " &nbsp;&nbsp;&nbsp;&nbsp; c) Adding New Pairs <br>\n",
    " &nbsp;&nbsp;&nbsp;&nbsp; d) Modifying Values <br>\n",
    " &nbsp;&nbsp;&nbsp;&nbsp; e) Removing Key, Value Pairs <br>\n",
    " &nbsp;&nbsp;&nbsp;&nbsp; f) Looping a Dictionary <br>\n",
    " &nbsp;&nbsp;&nbsp;&nbsp; g) Looping Only Keys <br>\n",
    " &nbsp;&nbsp;&nbsp;&nbsp; h) Looping Only Values <br>\n",
    " &nbsp;&nbsp;&nbsp;&nbsp; ------ Exercise #2 - Create a Function that Prints All Key Value Pairs within a print .format()  <br>\n",
    " &nbsp;&nbsp;&nbsp;&nbsp; i) sorted() <br>\n",
    " &nbsp;&nbsp;&nbsp;&nbsp; j) Lists with Dictionaries <br>\n",
    " &nbsp;&nbsp;&nbsp;&nbsp; k) Dictionaries with Lists <br>\n",
    " &nbsp;&nbsp;&nbsp;&nbsp; l) Dictionaries with Dictionaries <br>\n",
    " &nbsp;&nbsp;&nbsp;&nbsp; ------ Exercise #3 - Write a Function that asks someone's name and address, and then stores that into a dictionary, which prints all names and addresses after they're done putting information in...  <br>\n",
    "2) Dictionaries vs. Lists (over time)<br>\n",
    "3) Set <br>\n",
    " &nbsp;&nbsp;&nbsp;&nbsp; a) Declaring <br>\n",
    " &nbsp;&nbsp;&nbsp;&nbsp; b) .add() <br>\n",
    " &nbsp;&nbsp;&nbsp;&nbsp; c) .remove() <br>\n",
    " &nbsp;&nbsp;&nbsp;&nbsp; d) .union() <br>\n",
    " &nbsp;&nbsp;&nbsp;&nbsp; e) .intersection() <br>\n",
    " &nbsp;&nbsp;&nbsp;&nbsp; f) .difference() <br>\n",
    " &nbsp;&nbsp;&nbsp;&nbsp; g) Frozen Set <br>\n",
    "4) Exercises <br>\n",
    " &nbsp;&nbsp;&nbsp;&nbsp; a) Build a Shopping Cart <br>\n",
    " &nbsp;&nbsp;&nbsp;&nbsp; b) Create Your Own Module <br>"
   ]
  },
  {
   "cell_type": "markdown",
   "metadata": {},
   "source": [
    "## Dictionary <br>\n",
    "<p>A collection of data with 'key:value' pairs. Dictionaries are ordered as of Python 3.6</p>"
   ]
  },
  {
   "cell_type": "markdown",
   "metadata": {},
   "source": [
    "##### Declaring (key, value)"
   ]
  },
  {
   "cell_type": "code",
   "execution_count": 6,
   "metadata": {},
   "outputs": [
    {
     "name": "stdout",
     "output_type": "stream",
     "text": [
      "{}\n",
      "{}\n",
      "{'some': 'value'}\n",
      "{'Tom': '255 Main St', 'Jerry': '256 Main St', 0: 'This is a zero'}\n"
     ]
    }
   ],
   "source": [
    "# keys should be unique\n",
    "# can use numbers or strings as keys\n",
    "\n",
    "d_1 = {}\n",
    "print(d1)\n",
    "\n",
    "# or\n",
    "\n",
    "d_2 = dict()\n",
    "print(d2)\n",
    "\n",
    "d_2[\"some\"] = \"value\"\n",
    "\n",
    "print(d_2)\n",
    "\n",
    "d_3 = {\n",
    "    \"Tom\": \"255 Main St\",\n",
    "    \"Jerry\": \"256 Main St\",\n",
    "    0: \"This is a zero\"\n",
    "}\n",
    "\n",
    "print(d_3)\n"
   ]
  },
  {
   "cell_type": "markdown",
   "metadata": {},
   "source": [
    "##### Accessing Values"
   ]
  },
  {
   "cell_type": "code",
   "execution_count": 8,
   "metadata": {},
   "outputs": [
    {
     "name": "stdout",
     "output_type": "stream",
     "text": [
      "255 Main St\n",
      "256 Main St\n",
      "This is a zero\n"
     ]
    }
   ],
   "source": [
    "# dict[key]\n",
    "print(d_3[\"Tom\"])\n",
    "print(d_3[\"Jerry\"])\n",
    "print(d_3[0]) # be careful to differientate if its a key or an index"
   ]
  },
  {
   "cell_type": "code",
   "execution_count": 20,
   "metadata": {},
   "outputs": [
    {
     "name": "stdout",
     "output_type": "stream",
     "text": [
      "{0: 'alex', 1: 'billy', 2: 'cathleen', 3: 'dennis', 4: 'edurado'}\n",
      "cathleen\n",
      "{'0': 'alex', '1': 'billy', '2': 'cathleen', '3': 'dennis', '4': 'edurado'}\n",
      "alex\n"
     ]
    }
   ],
   "source": [
    "names = [\"alex\", \"billy\", \"cathleen\", \"dennis\", \"edurado\"]\n",
    "names_dic = {}\n",
    "\n",
    "for i, name in enumerate(names):\n",
    "    names_dic[i] = name\n",
    "print(names_dic)\n",
    "    \n",
    "print(names_dic[2])\n",
    "\n",
    "names_dic2 = {}\n",
    "\n",
    "for i, name in enumerate(names):\n",
    "    names_dic2[str(i)] = name\n",
    "print(names_dic2)\n",
    "    \n",
    "print(names_dic2[\"0\"])"
   ]
  },
  {
   "cell_type": "markdown",
   "metadata": {},
   "source": [
    "##### Accessing values with dict.get()"
   ]
  },
  {
   "cell_type": "code",
   "execution_count": 23,
   "metadata": {},
   "outputs": [
    {
     "name": "stdout",
     "output_type": "stream",
     "text": [
      "255 Main St\n",
      "None\n",
      "address not found\n",
      "None\n"
     ]
    }
   ],
   "source": [
    "#dict.get(key, value)\n",
    "\n",
    "d_3 = {\n",
    "    \"Tom\": \"255 Main St\",\n",
    "    \"Jerry\": \"256 Main St\",\n",
    "    0: \"This is a zero\"\n",
    "}\n",
    "\n",
    "print(d_3.get(\"Tom\"))\n",
    "print(d_3.get(\"Yurrr\"))\n",
    "print(d_3.get(\"Yurrr\", \"address not found\")) # this is how to change the comment when not found\n",
    "print(d_3.get(\"This is a zero\")) # has to be a key value, cannot search value with .get"
   ]
  },
  {
   "cell_type": "markdown",
   "metadata": {},
   "source": [
    "## In-Class Exercise #1 - Print a formatted statement from the dictionary below <br>\n",
    "<p>The output should be '2018 Chevrolet Silverado'</p>"
   ]
  },
  {
   "cell_type": "code",
   "execution_count": 36,
   "metadata": {},
   "outputs": [
    {
     "name": "stdout",
     "output_type": "stream",
     "text": [
      "2018 Chevrolet Silverado\n",
      "2018 Chevrolet Silverado\n",
      "2018 Chevrolet Silverado\n",
      "2018 Chevrolet Silverado\n",
      "year, 2018\n",
      "make, Chevrolet\n",
      "model, Silverado\n"
     ]
    }
   ],
   "source": [
    "# use the dict below\n",
    "truck = {\n",
    "    \"year\": 2018,\n",
    "    'make': 'Chevrolet',\n",
    "    'model': 'Silverado'\n",
    "}\n",
    "\n",
    "# use an f string\n",
    "# f\"{}\"\n",
    "\n",
    "print(f\"{truck['year']} {truck['make']} {truck['model']}\")\n",
    "print(f'{truck[\"year\"]} {truck[\"make\"]} {truck[\"model\"]}')\n",
    "\n",
    "print(truck.get(\"year\"), truck.get(\"make\"), truck.get(\"model\")) \n",
    "print(truck[\"year\"], truck[\"make\"], truck[\"model\"]) \n",
    "\n",
    "for key, value in truck.items():\n",
    "    print(f\"{key}, {value}\")\n"
   ]
  },
  {
   "cell_type": "code",
   "execution_count": 37,
   "metadata": {},
   "outputs": [
    {
     "name": "stdout",
     "output_type": "stream",
     "text": [
      "{'Tom': '255 Main St', 'Jerry': '256 Main St', 0: 'This is a zero', 'Spike': '257 Main St', 'Tike': '257 Main St'}\n"
     ]
    }
   ],
   "source": [
    "##### Adding New Pairs\n",
    "\n",
    "d_3 = {\n",
    "    \"Tom\": \"255 Main St\",\n",
    "    \"Jerry\": \"256 Main St\",\n",
    "    0: \"This is a zero\"\n",
    "}\n",
    "\n",
    "d_3[\"Spike\"] = \"257 Main St\"\n",
    "d_3[\"Tike\"] = \"257 Main St\"\n",
    "\n",
    "print(d_3)"
   ]
  },
  {
   "cell_type": "markdown",
   "metadata": {},
   "source": [
    "##### Modifying Values"
   ]
  },
  {
   "cell_type": "code",
   "execution_count": 45,
   "metadata": {},
   "outputs": [
    {
     "name": "stdout",
     "output_type": "stream",
     "text": [
      "{'Tom': '255 Main St', 'Jerry': '254 Main St', 0: 'This is a zero', 'Spike': '257 Main St', 'Tike': '258 Main St94588'}\n",
      "{'Tom': '255 Main St', 'Jerry': '254 Main St', 0: 'This is a zero', 'Spike': '257 Main St', 'Tike': '258 Main St'}\n",
      "<class 'str'>\n",
      "258 Main St 94588\n"
     ]
    }
   ],
   "source": [
    "# dict[key] = value\n",
    "print(d_3)\n",
    "d_3[\"Tike\"] = \"258 Main St\"\n",
    "d_3[\"Jerry\"] = \"254 Main St\"\n",
    "\n",
    "print(d_3)\n",
    "\n",
    "print(type(d_3[\"Tike\"]))\n",
    "\n",
    "d_3[\"Tike\"] = d_3[\"Tike\"] + \" 94588\"\n",
    "print(d_3[\"Tike\"])"
   ]
  },
  {
   "cell_type": "code",
   "execution_count": 53,
   "metadata": {},
   "outputs": [
    {
     "name": "stdout",
     "output_type": "stream",
     "text": [
      "{'Lando': 1}\n",
      "{'Lando': 1, 'Mega Man': 1}\n",
      "{'Lando': 1, 'Mega Man': 1, 'Cheetor': 1}\n",
      "{'Lando': 1, 'Mega Man': 1, 'Cheetor': 1, 'Charizard': 1}\n",
      "{'Lando': 2, 'Mega Man': 1, 'Cheetor': 1, 'Charizard': 1}\n",
      "{'Lando': 2, 'Mega Man': 2, 'Cheetor': 1, 'Charizard': 1}\n",
      "{'Lando': 3, 'Mega Man': 2, 'Cheetor': 1, 'Charizard': 1}\n",
      "{'Lando': 4, 'Mega Man': 2, 'Cheetor': 1, 'Charizard': 1}\n",
      "{'Lando': 4, 'Mega Man': 2, 'Cheetor': 1, 'Charizard': 2}\n"
     ]
    }
   ],
   "source": [
    "### REMEMBER THIS: This will be asked in various point of time. How to implement a counter for a dictionary\n",
    "\n",
    "names_list = [\"Lando\", \"Mega Man\", \"Cheetor\", \"Charizard\", \"Lando\", \"Mega Man\", \"Lando\", \"Lando\", \"Charizard\"]\n",
    "count_dict = {}\n",
    "\n",
    "for name in names_list:\n",
    "    if name not in count_dict:\n",
    "        count_dict[name] = 1\n",
    "        print(count_dict)\n",
    "    else:\n",
    "        count_dict[name] += 1\n",
    "        print(count_dict)\n",
    "    "
   ]
  },
  {
   "cell_type": "markdown",
   "metadata": {},
   "source": [
    "##### Removing Key, Value Pairs"
   ]
  },
  {
   "cell_type": "code",
   "execution_count": 60,
   "metadata": {},
   "outputs": [
    {
     "name": "stdout",
     "output_type": "stream",
     "text": [
      "{'Tom': '255 Main St', 'Jerry': '254 Main St', 0: 'This is a zero', 'Spike': '257 Main St', 'Tike': '258 Main St 94588'}\n",
      "{'Tom': '255 Main St', 'Jerry': '254 Main St', 'Spike': '257 Main St', 'Tike': '258 Main St 94588'}\n",
      "{'bananas': 0, 'apples': 7}\n",
      "{'apples': 7}\n"
     ]
    }
   ],
   "source": [
    "# del dict[key]\n",
    "# del(my_list[0]) difference between list del and dict del is:\n",
    "# the list del(wraps the list in parentheses)\n",
    "d_3 = {\n",
    "    \"Tom\": \"255 Main St\",\n",
    "    \"Jerry\": \"256 Main St\",\n",
    "    0: \"This is a zero\"\n",
    "}\n",
    "d_3[\"Spike\"] = \"257 Main St\"\n",
    "d_3[\"Tike\"] = \"257 Main St\"\n",
    "\n",
    "d_3[\"Tike\"] = \"258 Main St\"\n",
    "d_3[\"Jerry\"] = \"254 Main St\"\n",
    "\n",
    "d_3[\"Tike\"] = d_3[\"Tike\"] + \" 94588\"\n",
    "\n",
    "print(d_3)\n",
    "\n",
    "del(d_3[0]) # <-- this is a key not an index call\n",
    "\n",
    "print(d_3)\n",
    "\n",
    "\n",
    "\n",
    "my_cart = {\n",
    "    \"bananas\": 0,\n",
    "    \"apples\": 7\n",
    "}\n",
    "\n",
    "print(my_cart)\n",
    "\n",
    "# To remove an item from a cart\n",
    "if my_cart[\"bananas\"] <= 0:\n",
    "    del(my_cart[\"bananas\"])\n",
    "\n",
    "\n",
    "print(my_cart)"
   ]
  },
  {
   "cell_type": "markdown",
   "metadata": {},
   "source": [
    "### Looping a Dictionary"
   ]
  },
  {
   "cell_type": "markdown",
   "metadata": {},
   "source": [
    "##### Looping through items (key and values)"
   ]
  },
  {
   "cell_type": "code",
   "execution_count": 74,
   "metadata": {},
   "outputs": [
    {
     "name": "stdout",
     "output_type": "stream",
     "text": [
      "Tom 255 Main St\n",
      "Jerry 254 Main St\n",
      "Spike 257 Main St\n",
      "Tike 258 Main St 94588\n",
      "\n",
      "\n",
      "Tom lives at 255 Main St\n",
      "255 Main St is Tom' address\n",
      "\n",
      "\n",
      "Jerry lives at 254 Main St\n",
      "254 Main St is Jerry' address\n",
      "\n",
      "\n",
      "Spike lives at 257 Main St\n",
      "257 Main St is Spike' address\n",
      "\n",
      "\n",
      "Tike lives at 258 Main St 94588\n",
      "258 Main St 94588 is Tike' address\n",
      "\n",
      "\n",
      "Tom lives at 255 Main St\n",
      "Jerry lives at 254 Main St\n",
      "Spike lives at 257 Main St\n",
      "Tike lives at 258 Main St 94588\n",
      "Tom lives at 255 Main St\n",
      "Jerry lives at 254 Main St\n",
      "Spike lives at 257 Main St\n",
      "Tike lives at 258 Main St 94588\n"
     ]
    }
   ],
   "source": [
    "# .items()\n",
    "# a, b, c = 1, 2, 3\n",
    "for name,address in d_3.items():\n",
    "    print(name, address)\n",
    "\n",
    "print(\"\\n\")\n",
    "\n",
    "for name, address in d_3.items():\n",
    "    print(f\"{name} lives at {address}\")\n",
    "    print(f'{address} is {name}\\' address') \n",
    "    print(\"\\n\")\n",
    "    \n",
    "for name_address in d_3.items():\n",
    "    print(f\"{name_address[0]} lives at {name_address[1]}\") #index into the returned tuple\n",
    "    \n",
    "for name, address in d_3.items():\n",
    "    print(f\"{name} lives at {address}\")"
   ]
  },
  {
   "cell_type": "markdown",
   "metadata": {},
   "source": [
    "##### Looping Only Keys"
   ]
  },
  {
   "cell_type": "code",
   "execution_count": 76,
   "metadata": {},
   "outputs": [
    {
     "name": "stdout",
     "output_type": "stream",
     "text": [
      "{'Tom': '255 Main St', 'Jerry': '254 Main St', 'Spike': '257 Main St', 'Tike': '258 Main St 94588'}\n",
      "Tom\n",
      "Jerry\n",
      "Spike\n",
      "Tike\n",
      "\n",
      "\n",
      "Tom\n",
      "Jerry\n",
      "Spike\n",
      "Tike\n",
      "dict_keys(['Tom', 'Jerry', 'Spike', 'Tike'])\n"
     ]
    }
   ],
   "source": [
    "# .keys()\n",
    "print(d_3)\n",
    "\n",
    "for key in d_3:\n",
    "    print(key)\n",
    "\n",
    "print(\"\\n\")\n",
    "\n",
    "for key in d_3.keys():\n",
    "    print(key)\n",
    "\n",
    "print(d_3.keys())"
   ]
  },
  {
   "cell_type": "markdown",
   "metadata": {},
   "source": [
    "##### Looping Only Values"
   ]
  },
  {
   "cell_type": "code",
   "execution_count": 77,
   "metadata": {
    "scrolled": true
   },
   "outputs": [
    {
     "name": "stdout",
     "output_type": "stream",
     "text": [
      "{'Tom': '255 Main St', 'Jerry': '254 Main St', 'Spike': '257 Main St', 'Tike': '258 Main St 94588'}\n",
      "Tom\n",
      "Jerry\n",
      "Spike\n",
      "Tike\n",
      "\n",
      "\n",
      "255 Main St\n",
      "254 Main St\n",
      "257 Main St\n",
      "258 Main St 94588\n",
      "dict_values(['255 Main St', '254 Main St', '257 Main St', '258 Main St 94588'])\n"
     ]
    }
   ],
   "source": [
    "# .values()\n",
    "\n",
    "print(d_3)\n",
    "\n",
    "for key in d_3:\n",
    "    print(key)\n",
    "\n",
    "print(\"\\n\")\n",
    "\n",
    "for key in d_3.values():\n",
    "    print(key)\n",
    "\n",
    "print(d_3.values())\n"
   ]
  },
  {
   "cell_type": "markdown",
   "metadata": {},
   "source": [
    "## In-Class Exercise #2 - Create a Function that Prints All Key Value Pairs within a formatted string  <br>\n",
    "<p><b>Output should be:</b><br>\n",
    "Max has blue eyes<br>\n",
    "Lilly has brown eyes<br>\n",
    "Barney has blue eyes<br>\n",
    "etc.\n",
    "</p>"
   ]
  },
  {
   "cell_type": "code",
   "execution_count": 98,
   "metadata": {},
   "outputs": [
    {
     "name": "stdout",
     "output_type": "stream",
     "text": [
      "Max has blue eyes\n",
      "Lilly has brown eyes\n",
      "Barney has green eyes\n",
      "Ted has purple eyes\n",
      "Sasuke has sharingan eyes\n",
      "\n",
      "\n",
      "Max has blue eyes\n",
      "Lilly has brown eyes\n",
      "Barney has green eyes\n",
      "Ted has purple eyes\n",
      "Sasuke has sharingan eyes\n"
     ]
    }
   ],
   "source": [
    "# use the dict below\n",
    "people = {\n",
    "    'Max' : 'blue',\n",
    "    'Lilly' : 'brown',\n",
    "    'Barney' : 'green',\n",
    "    'Ted' : 'purple',\n",
    "    'Sasuke' : 'sharingan'    \n",
    "} \n",
    "\n",
    "for name, color in people.items():\n",
    "    print(f\"{name} has {color} eyes\")\n",
    "\n",
    "print(\"\\n\")\n",
    "\n",
    "for name_color in people.items():\n",
    "    print(f\"{name_color[0]} has {name_color[1]} eyes\")"
   ]
  },
  {
   "cell_type": "markdown",
   "metadata": {},
   "source": [
    "##### sorted()"
   ]
  },
  {
   "cell_type": "code",
   "execution_count": 107,
   "metadata": {},
   "outputs": [
    {
     "name": "stdout",
     "output_type": "stream",
     "text": [
      "Values: ['blue', 'brown', 'green', 'purple', 'sharingan']\n",
      "Keys: ['Barney', 'Lilly', 'Max', 'Sasuke', 'Ted']\n",
      "Key Values Pairs: [('Barney', 'green'), ('Lilly', 'brown'), ('Max', 'blue'), ('Sasuke', 'sharingan'), ('Ted', 'purple')]\n",
      "\n",
      "\n",
      "[('Barney', 'green'), ('Lilly', 'brown'), ('Max', 'blue'), ('Sasuke', 'sharingan'), ('Ted', 'purple')]\n",
      "blue\n"
     ]
    }
   ],
   "source": [
    "# sorts variables in order\n",
    "# sorted(dict.values()) or dict.keys() or dict.items()\n",
    "\n",
    "people = {\n",
    "    'Max' : 'blue',\n",
    "    'Lilly' : 'brown',\n",
    "    'Barney' : 'green',\n",
    "    'Ted' : 'purple',\n",
    "    'Sasuke' : 'sharingan'    \n",
    "} \n",
    "\n",
    "print(\"Values:\", sorted(people.values()))\n",
    "print(\"Keys:\", sorted(people.keys()))\n",
    "print(\"Key Values Pairs:\", sorted(people.items()))\n",
    "\n",
    "print(\"\\n\")\n",
    "\n",
    "# to identify an exact value, we are trying to find blue\n",
    "\n",
    "sorted_items = sorted(people.items())\n",
    "\n",
    "print(sorted_items)\n",
    "\n",
    "print(sorted_items[2][1]) "
   ]
  },
  {
   "cell_type": "markdown",
   "metadata": {},
   "source": [
    "##### List with Dictionaries"
   ]
  },
  {
   "cell_type": "code",
   "execution_count": 108,
   "metadata": {},
   "outputs": [
    {
     "name": "stdout",
     "output_type": "stream",
     "text": [
      "['Gaara', 'Shikamaru', 'OctoPops', {'leaf_village': 'Naruto', 'leaf_village2': 'Kakashi'}]\n",
      "{'leaf_village': 'Naruto', 'leaf_village2': 'Kakashi'}\n",
      "Kakashi\n"
     ]
    }
   ],
   "source": [
    "shinobi = [\"Gaara\", \"Shikamaru\", \"OctoPops\", {\"leaf_village\": \"Naruto\", \"leaf_village2\": \"Kakashi\"}]\n",
    "\n",
    "print(shinobi)\n",
    "print(shinobi[3])\n",
    "print(shinobi[3][\"leaf_village2\"]) ### calling the key to get the value\n",
    "\n"
   ]
  },
  {
   "cell_type": "markdown",
   "metadata": {},
   "source": [
    "##### Dictionaries with Lists"
   ]
  },
  {
   "cell_type": "code",
   "execution_count": 118,
   "metadata": {},
   "outputs": [
    {
     "name": "stdout",
     "output_type": "stream",
     "text": [
      "65\n",
      "Baulbasaur\n"
     ]
    }
   ],
   "source": [
    "# be careful when using numbers as keys in dictionaries, don't confuse them with indexes\n",
    "random_data = {\n",
    "    \"list_1\": [54, 65, 90],\n",
    "    \"names\": [\"John\", \"Laura\", \"Baulbasaur\"]\n",
    "}\n",
    "\n",
    "print(random_data[\"list_1\"][1])\n",
    "print(random_data[\"names\"][-1])"
   ]
  },
  {
   "cell_type": "markdown",
   "metadata": {},
   "source": [
    "##### Dictionaries with Dictionaries"
   ]
  },
  {
   "cell_type": "code",
   "execution_count": 23,
   "metadata": {
    "scrolled": false
   },
   "outputs": [
    {
     "name": "stdout",
     "output_type": "stream",
     "text": [
      "{'Ryan': {'Mexican': ['Tacos', 'Tortas', 'Arroz'], 'Desserts': ['Cheesecake', 'Pie', 'Cookies', 'Cupcakes']}, 'Alex': {'Candy': ['Troli Eggs', 'Lemonheads', 'Nerds Rope', 'Now & Later'], 'Protein': ['Chicken', 'Ground Turkey', 'Turkey Bacon', 'PB&J']}, 'Razvan': {'Italian': ['Pizza', 'Pasta', 'Salad'], 'Desserts': ['Pie', 'Crepes', 'Cake', 'Fruits']}, 'Mo': {'Korean': ['Kimchi Tofu Stir-Fry', 'Kimchi Stew', 'Japchae'], 'Drinks': ['Milk Foam Green Tea', 'Boba Milk Tea', 'Fruit Tea']}, 'Justin': {'Persian': ['Kebabs', 'Steak', 'Tahdig'], 'Italian': ['Penne all Vodka', 'Pizza', 'Pesto Gnocchi']}, 'Morgan': {'Mexican': ['fajitas', 'Burriatacos', 'Quesadillas'], 'italian': ['pizza', 'chicken Alfredo'], 'Dessert': ['Anything chocolate']}, 'Will': {'Pizza': ['Hawaiian', 'Deepdish', 'Pepperoni'], 'Candy': ['Hot Tamales', 'Snickers', 'Reeces', 'Twix']}}\n"
     ]
    }
   ],
   "source": [
    "# to get values, must traverse through keys\n",
    "## IMPORTANT\n",
    "\n",
    "food_dict = {\n",
    "    \"Ryan\": {\n",
    "        \"Mexican\": [\"Tacos\", \"Tortas\", \"Arroz\"],\n",
    "        \"Desserts\": [\"Cheesecake\", \"Pie\", \"Cookies\", \"Cupcakes\"]\n",
    "    },\n",
    "    \"Alex\": {\n",
    "        \"Candy\": [\"Troli Eggs\", \"Lemonheads\", \"Nerds Rope\", \"Now & Later\"],\n",
    "        \"Protein\": [\"Chicken\", \"Ground Turkey\", \"Turkey Bacon\", \"PB&J\"]\n",
    "    },\n",
    "    \"Razvan\" : {\n",
    "        \"Italian\" : [\"Pizza\", \"Pasta\", \"Salad\"],\n",
    "        \"Desserts\" : [\"Pie\", \"Crepes\", \"Cake\", \"Fruits\"]\n",
    "    },\n",
    "    \"Mo\": {\n",
    "        \"Korean\": [\"Kimchi Tofu Stir-Fry\", \"Kimchi Stew\", \"Japchae\"],\n",
    "        \"Drinks\": [\"Milk Foam Green Tea\", \"Boba Milk Tea\", \"Fruit Tea\"]\n",
    "    },\n",
    "    \"Justin\": {\n",
    "        \"Persian\": [\"Kebabs\", \"Steak\", \"Tahdig\"],\n",
    "        \"Italian\": [\"Penne all Vodka\", \"Pizza\", \"Pesto Gnocchi\"]\n",
    "    },\n",
    "    \"Morgan\": {\n",
    "        \"Mexican\": [\"fajitas\",\"Burriatacos\", \"Quesadillas\"],\n",
    "        \"italian\": [\"pizza\", \"chicken Alfredo\"],\n",
    "        \"Dessert\": [\"Anything chocolate\"]\n",
    "    },\n",
    "    \"Will\": {\n",
    "        \"Pizza\": [\"Hawaiian\", \"Deepdish\", \"Pepperoni\"],\n",
    "        \"Candy\": [\"Hot Tamales\", \"Snickers\", \"Reeces\", \"Twix\"]\n",
    "    }\n",
    "}\n",
    "\n",
    "print(food_dict)"
   ]
  },
  {
   "cell_type": "code",
   "execution_count": 24,
   "metadata": {},
   "outputs": [
    {
     "name": "stdout",
     "output_type": "stream",
     "text": [
      "Pie\n",
      "Crepes\n",
      "Cake\n",
      "Fruits\n",
      "\n",
      "\n",
      "Crepes\n",
      "\n",
      "\n",
      "Fruits\n"
     ]
    }
   ],
   "source": [
    "# Looping through Razvan's desserts\n",
    "for food in food_dict [\"Razvan\"][\"Desserts\"]:\n",
    "    print(food)\n",
    "print(\"\\n\")\n",
    "\n",
    "# Calling a specific desert\n",
    "print(food_dict[\"Razvan\"][\"Desserts\"][1])\n",
    "print(\"\\n\")\n",
    "\n",
    "# assigning it a variable\n",
    "no_cake = food_dict[\"Razvan\"][\"Desserts\"][3]\n",
    "print(no_cake)"
   ]
  },
  {
   "cell_type": "code",
   "execution_count": 25,
   "metadata": {},
   "outputs": [
    {
     "name": "stdout",
     "output_type": "stream",
     "text": [
      "Ryan\n",
      "Alex\n",
      "Razvan\n",
      "Mo\n",
      "Justin\n",
      "Morgan\n",
      "Will\n"
     ]
    }
   ],
   "source": [
    "# We are taking the dictionaries which is person\n",
    "for person in food_dict:\n",
    "    print (person)"
   ]
  },
  {
   "cell_type": "code",
   "execution_count": 22,
   "metadata": {},
   "outputs": [
    {
     "name": "stdout",
     "output_type": "stream",
     "text": [
      "Mexican\n",
      "Desserts\n",
      "Candy\n",
      "Protein\n",
      "Italian\n",
      "Deserts\n",
      "Korean\n",
      "Drinks\n",
      "Persian\n",
      "Italian\n",
      "Mexican\n",
      "italian\n",
      "Dessert\n",
      "Pizza\n",
      "Candy\n"
     ]
    }
   ],
   "source": [
    "# we are going deeper in dictionary, where we are grabbing all the key's\n",
    "for person in food_dict:\n",
    "    for genre in food_dict[person]:\n",
    "        print(genre)"
   ]
  },
  {
   "cell_type": "code",
   "execution_count": 41,
   "metadata": {},
   "outputs": [
    {
     "name": "stdout",
     "output_type": "stream",
     "text": [
      "here are everyone's favorite food: \n",
      "\n",
      "Ryan's favorite food are: \n",
      "\n",
      "\n",
      "Mexican\n",
      "Tacos\n",
      "Tortas\n",
      "Arroz\n",
      "\n",
      "Desserts\n",
      "Cheesecake\n",
      "Pie\n",
      "Cookies\n",
      "Cupcakes\n",
      "\n",
      "Alex's favorite food are: \n",
      "\n",
      "\n",
      "Candy\n",
      "Troli Eggs\n",
      "Lemonheads\n",
      "Nerds Rope\n",
      "Now & Later\n",
      "\n",
      "Protein\n",
      "Chicken\n",
      "Ground Turkey\n",
      "Turkey Bacon\n",
      "PB&J\n",
      "\n",
      "Razvan's favorite food are: \n",
      "\n",
      "\n",
      "Italian\n",
      "Pizza\n",
      "Pasta\n",
      "Salad\n",
      "\n",
      "Desserts\n",
      "Pie\n",
      "Crepes\n",
      "Cake\n",
      "Fruits\n",
      "\n",
      "Mo's favorite food are: \n",
      "\n",
      "\n",
      "Korean\n",
      "Kimchi Tofu Stir-Fry\n",
      "Kimchi Stew\n",
      "Japchae\n",
      "\n",
      "Drinks\n",
      "Milk Foam Green Tea\n",
      "Boba Milk Tea\n",
      "Fruit Tea\n",
      "\n",
      "Justin's favorite food are: \n",
      "\n",
      "\n",
      "Persian\n",
      "Kebabs\n",
      "Steak\n",
      "Tahdig\n",
      "\n",
      "Italian\n",
      "Penne all Vodka\n",
      "Pizza\n",
      "Pesto Gnocchi\n",
      "\n",
      "Morgan's favorite food are: \n",
      "\n",
      "\n",
      "Mexican\n",
      "fajitas\n",
      "Burriatacos\n",
      "Quesadillas\n",
      "\n",
      "italian\n",
      "pizza\n",
      "chicken Alfredo\n",
      "\n",
      "Dessert\n",
      "Anything chocolate\n",
      "\n",
      "Will's favorite food are: \n",
      "\n",
      "\n",
      "Pizza\n",
      "Hawaiian\n",
      "Deepdish\n",
      "Pepperoni\n",
      "\n",
      "Candy\n",
      "Hot Tamales\n",
      "Snickers\n",
      "Reeces\n",
      "Twix\n"
     ]
    }
   ],
   "source": [
    "# print people's favorite foods are...\n",
    "\n",
    "print(f\"here are everyone's favorite food: \" ) \n",
    "for person in food_dict.keys():\n",
    "    print(f\"\\n{person}'s favorite food are: \\n\")\n",
    "    for food_type in food_dict[person].keys():\n",
    "        print(f\"\\n{food_type}\")\n",
    "        for food in food_dict[person][food_type]:\n",
    "            print(food)\n",
    "    "
   ]
  },
  {
   "cell_type": "code",
   "execution_count": 43,
   "metadata": {},
   "outputs": [
    {
     "name": "stdout",
     "output_type": "stream",
     "text": [
      "dict_keys(['Ryan', 'Alex', 'Razvan', 'Mo', 'Justin', 'Morgan', 'Will'])\n"
     ]
    }
   ],
   "source": [
    "print(food_dict.keys())"
   ]
  },
  {
   "cell_type": "markdown",
   "metadata": {},
   "source": [
    "## Dictionaries vs. Lists (over time) Example of RUNTIME\n",
    "### When inputting values in a Dictionary vs List"
   ]
  },
  {
   "cell_type": "code",
   "execution_count": null,
   "metadata": {},
   "outputs": [],
   "source": [
    "import time\n",
    "\n",
    "#generate dictionary\n",
    "\n",
    "    \n",
    "\n",
    "    \n",
    "\n"
   ]
  },
  {
   "cell_type": "code",
   "execution_count": null,
   "metadata": {},
   "outputs": [],
   "source": [
    "#track the time for the dictionary\n",
    "\n",
    "\n",
    "\n",
    "        "
   ]
  },
  {
   "cell_type": "markdown",
   "metadata": {},
   "source": [
    "## Exercise #3 - Write a Function that asks someone's name and address, and then stores that into a dictionary, and continues to do so until they choose to 'quit'. Once they quit, the program should print all names and addresses. <br>\n",
    "<p>\n",
    "<b>Proper steps:</b><br>\n",
    "step 1: write a function that takes in information and stores it in a dictionary<br>\n",
    "step 2: define an empty dictionary to work with<br>\n",
    "step 3: create our loop, which asks the user for information until they quit<br>\n",
    "step 4: ask for the information, and store it into variables<br>\n",
    "step 5: check if the user types quit<br>\n",
    "step 5a: print out all information<br>\n",
    "step 5b: break out of the loop<br>\n",
    "step 6: if they didn't quit, add the information to the dictionary<br>\n",
    "step 7: invoke the function by calling it\n",
    "</p>"
   ]
  },
  {
   "cell_type": "code",
   "execution_count": 48,
   "metadata": {},
   "outputs": [
    {
     "name": "stdout",
     "output_type": "stream",
     "text": [
      "Enter a name or say 'quit' to stop: alex\n",
      "Enter a address or say 'quit' to stop: main st\n",
      "Enter a name or say 'quit' to stop: lily\n",
      "Enter a address or say 'quit' to stop: first st\n",
      "Enter a name or say 'quit' to stop: maria\n",
      "Enter a address or say 'quit' to stop: eighth st\n",
      "Enter a name or say 'quit' to stop: quit\n",
      "The address for alex is main st\n",
      "The address for lily is first st\n",
      "The address for maria is eighth st\n",
      "{'alex': 'main st', 'lily': 'first st', 'maria': 'eighth st'}\n"
     ]
    }
   ],
   "source": [
    "from IPython.display import clear_output\n",
    "\n",
    "# Step 1: We write a function\n",
    "\n",
    "# Step 2:\n",
    "address_book = {}\n",
    "\n",
    "# Step 3:\n",
    "while True:\n",
    "    \n",
    "    # Step 4: \n",
    "    name = input(\"Enter a name or say 'quit' to stop: \")\n",
    "    if name.lower() != \"quit\":\n",
    "        address = input(\"Enter a address or say 'quit' to stop: \")\n",
    "        \n",
    "    # Step 5:\n",
    "    if name == \"quit\" or address == \"quit\":\n",
    "    \n",
    "        #Step 5a:\n",
    "        for name, address in address_book.items():\n",
    "         print(f\"The address for {name} is {address}\")\n",
    "        \n",
    "        # Step 5b:\n",
    "        break\n",
    "    \n",
    "    # Step 6\n",
    "    address_book[name] = address\n",
    "print(address_book)\n",
    "        \n",
    "        "
   ]
  },
  {
   "cell_type": "code",
   "execution_count": 59,
   "metadata": {},
   "outputs": [
    {
     "name": "stdout",
     "output_type": "stream",
     "text": [
      "What should we buy: peanut butter\n",
      "How many should we buy: 1\n",
      "What should we buy: jelly\n",
      "How many should we buy: 1\n",
      "What should we buy: quit\n",
      "{'bread': 2, 'peanut butter': '1', 'jelly': '1'}\n",
      "dict_keys(['bread', 'peanut butter', 'jelly'])\n"
     ]
    }
   ],
   "source": [
    "cart = {\n",
    "    \"bread\": 2\n",
    "}\n",
    "\n",
    "while True:\n",
    "    \n",
    "    item = input(\"What should we buy: \")\n",
    "    if item.lower() != \"quit\":\n",
    "        quality = input(\"How many should we buy: \")\n",
    "    \n",
    "    if item.lower() == \"quit\" or quality.lower() == \"quit\":\n",
    "        print(cart)\n",
    "        \n",
    "        break\n",
    "        \n",
    "    cart[item] = quality\n",
    "    \n",
    "print(cart.keys())"
   ]
  },
  {
   "cell_type": "markdown",
   "metadata": {},
   "source": [
    "## Set <br>\n",
    "<p>A Set is an unordered collection data type that is iterable (loop), mutable, and has no duplicate elements.<br>Major advantage is that it is highly optimized in checking if something is in the set, as opposed to checking if something is in a list.</p>"
   ]
  },
  {
   "cell_type": "markdown",
   "metadata": {},
   "source": [
    "##### Declaring"
   ]
  },
  {
   "cell_type": "code",
   "execution_count": 69,
   "metadata": {
    "scrolled": false
   },
   "outputs": [
    {
     "name": "stdout",
     "output_type": "stream",
     "text": [
      "{8, 1, 4}\n",
      "{1, 4, 5, 6, 7, 8, 9}\n"
     ]
    }
   ],
   "source": [
    "# set() or {}\n",
    "# no order {3, 2, 1} outputs as {1, 2, 3}\n",
    "\n",
    "nums = {4, 1, 8, 4}\n",
    "print(nums)\n",
    "\n",
    "my_list = [1,1,1,1,1,4,5,6,6,6,6,6,6,6,7,7,8,9,9,9,9,9,9]\n",
    "my_set = set(my_list)\n",
    "print(my_set)"
   ]
  },
  {
   "cell_type": "code",
   "execution_count": 70,
   "metadata": {
    "scrolled": true
   },
   "outputs": [
    {
     "name": "stdout",
     "output_type": "stream",
     "text": [
      "{1, 4, 5, 6, 7, 8, 9}\n",
      "[1, 4, 5, 6, 7, 8, 9]\n"
     ]
    }
   ],
   "source": [
    "#remove all duplicates from the list\n",
    "my_list = [1,1,1,1,1,4,5,6,6,6,6,6,6,6,7,7,8,9,9,9,9,9,9]\n",
    "my_set = set(my_list)\n",
    "print(my_set)\n",
    "\n",
    "my_list = list(my_set)\n",
    "print(my_list)"
   ]
  },
  {
   "cell_type": "markdown",
   "metadata": {},
   "source": [
    "##### .add()"
   ]
  },
  {
   "cell_type": "code",
   "execution_count": 74,
   "metadata": {},
   "outputs": [
    {
     "name": "stdout",
     "output_type": "stream",
     "text": [
      "{2, 4, 5, 7, 9}\n",
      "{2, 4, 5, 7, 24, 9}\n",
      "{'hello', 2, 4, 5, 7, 24, 9}\n"
     ]
    }
   ],
   "source": [
    "# set.add() \n",
    "# mutable, we are able to add into set\n",
    "\n",
    "my_set = {2, 5, 4, 7, 9}\n",
    "print(my_set)\n",
    "my_set.add(24)\n",
    "print(my_set)\n",
    "my_set.add(\"hello\")\n",
    "print(my_set)\n",
    "\n",
    "# sets are not subscriptable so no [x] \n",
    "\n"
   ]
  },
  {
   "cell_type": "markdown",
   "metadata": {},
   "source": [
    "##### .remove()"
   ]
  },
  {
   "cell_type": "code",
   "execution_count": 75,
   "metadata": {},
   "outputs": [
    {
     "name": "stdout",
     "output_type": "stream",
     "text": [
      "{2, 4, 5, 7, 24, 9}\n"
     ]
    }
   ],
   "source": [
    "# removes by value\n",
    "# set.remove()\n",
    "\n",
    "my_set.remove(\"hello\")\n",
    "print(my_set)\n"
   ]
  },
  {
   "cell_type": "markdown",
   "metadata": {},
   "source": [
    "##### .union() "
   ]
  },
  {
   "cell_type": "code",
   "execution_count": 78,
   "metadata": {},
   "outputs": [
    {
     "name": "stdout",
     "output_type": "stream",
     "text": [
      "{1, 2, 4, 5, 7, 8, 9, 23, 24}\n",
      "{1, 2, 4, 5, 7, 8, 9, 23, 24}\n"
     ]
    }
   ],
   "source": [
    "# Returns a union of two sets, can also use '|' or set.union(set)\n",
    "# joins all numbers, gets rid of duplicates\n",
    "\n",
    "s1 = {2, 5, 4, 7, 9}\n",
    "s2 = {1, 24, 23, 8}\n",
    "\n",
    "s3 = s1.union(s2)\n",
    "print(s3)\n",
    "\n",
    "s4 = s2 | s1\n",
    "print(s4)"
   ]
  },
  {
   "cell_type": "markdown",
   "metadata": {},
   "source": [
    "##### .intersection()"
   ]
  },
  {
   "cell_type": "code",
   "execution_count": 86,
   "metadata": {},
   "outputs": [
    {
     "name": "stdout",
     "output_type": "stream",
     "text": [
      "{8, 24}\n",
      "{8, 24}\n"
     ]
    }
   ],
   "source": [
    "# Returns an intersection of two sets, can also use '&'\n",
    "# only takes similar elements from both sets\n",
    "s1 = {2, 5, 7, 9, 8, 24}\n",
    "s2 = {1, 24, 23, 8, 4}\n",
    "\n",
    "s3 = s2.intersection(s1)\n",
    "print(s3)\n",
    "\n",
    "s4 = s1 & s2 & s3\n",
    "print(s4)"
   ]
  },
  {
   "cell_type": "markdown",
   "metadata": {},
   "source": [
    "##### .difference()"
   ]
  },
  {
   "cell_type": "code",
   "execution_count": 85,
   "metadata": {},
   "outputs": [
    {
     "name": "stdout",
     "output_type": "stream",
     "text": [
      "{9, 2, 5, 7}\n",
      "{1, 4, 23}\n"
     ]
    }
   ],
   "source": [
    "# Returns a set containing all the elements of invoking set that are not in the second set, can also use '-'\n",
    "# only takes values from the first set that are not in the second set\n",
    "# order matters\n",
    "s1 = {2, 5, 7, 9, 8, 24}\n",
    "s2 = {1, 24, 23, 8, 4}\n",
    "\n",
    "s3 = s1.difference(s2)\n",
    "print(s3)\n",
    "\n",
    "s4 = s2.difference(s1)\n",
    "print(s4)"
   ]
  },
  {
   "cell_type": "markdown",
   "metadata": {},
   "source": [
    "##### .clear()"
   ]
  },
  {
   "cell_type": "code",
   "execution_count": 93,
   "metadata": {},
   "outputs": [
    {
     "name": "stdout",
     "output_type": "stream",
     "text": [
      "None\n",
      "set()\n"
     ]
    }
   ],
   "source": [
    "# Empties the whole set\n",
    "# set.clear()\n",
    "s1 = {2, 5, 7, 9, 8, 24}\n",
    "s2 = {1, 24, 23, 8, 4}\n",
    "\n",
    "s3 = s1.clear()\n",
    "print(s3)\n",
    "print(s1)"
   ]
  },
  {
   "cell_type": "markdown",
   "metadata": {},
   "source": [
    "##### Frozenset <br>\n",
    "<p>Frozen sets are immutable objects that only support methods and operators that produce a result without affecting the frozen set or sets to which they are applied.</p><br><b>Unique & Immutable</b>"
   ]
  },
  {
   "cell_type": "code",
   "execution_count": 119,
   "metadata": {},
   "outputs": [
    {
     "name": "stdout",
     "output_type": "stream",
     "text": [
      "{2, 3, 4, 5, 'helo', 7, 'my doggo neato'}\n",
      "frozenset({2, 3, 4, 5, 'helo', 7, 'my doggo neato'})\n"
     ]
    }
   ],
   "source": [
    "# frozenset([])\n",
    "\n",
    "my_set = {2, 3, 4, \"helo\", 7, \"my doggo neato\", 5}\n",
    "print(my_set)\n",
    "\n",
    "freeze = frozenset(my_set)\n",
    "print(freeze)\n",
    "# freeze.add(22)\n",
    "# freeze.remove(4)\n",
    "# we cannot add or remove to a frozen. not mutable"
   ]
  },
  {
   "cell_type": "markdown",
   "metadata": {},
   "source": [
    "# Exercises"
   ]
  },
  {
   "cell_type": "markdown",
   "metadata": {},
   "source": [
    "### 1) Build a Shopping Cart <br>\n",
    "<p><b>You can use either lists or dictionaries. The program should have the following capabilities:</b><br><br>\n",
    "1) Takes in input <br>\n",
    "2) Stores user input into a dictionary or list <br>\n",
    "3) The User can add or delete items <br>\n",
    "4) The User can see current shopping list <br>\n",
    "5) The program Loops until user 'quits' <br>\n",
    "6) Upon quiting the program, print out all items in the user's list <br>\n",
    "</p>"
   ]
  },
  {
   "cell_type": "code",
   "execution_count": 174,
   "metadata": {
    "scrolled": true
   },
   "outputs": [
    {
     "name": "stdout",
     "output_type": "stream",
     "text": [
      "What are we doing? \n",
      "'show' to see cart. \n",
      "'add' to buy more groceries. \n",
      "'delete' to take an item out. \n",
      "'quit' to stop shopping. \n",
      "\n",
      "We want to: add\n",
      "What are we buying: bananas\n",
      "How many bananas are we buying: 10\n",
      "\n",
      "\n",
      "What are we doing? \n",
      "'show' to see cart. \n",
      "'add' to buy more groceries. \n",
      "'delete' to take an item out. \n",
      "'quit' to stop shopping. \n",
      "\n",
      "We want to: show\n",
      "we have 10 bananas\n",
      "What are we doing? \n",
      "'show' to see cart. \n",
      "'add' to buy more groceries. \n",
      "'delete' to take an item out. \n",
      "'quit' to stop shopping. \n",
      "\n",
      "We want to: quit\n",
      "I'll Miss you :(\n",
      "\n",
      " your shopping cart: {'bananas': 10}\n"
     ]
    }
   ],
   "source": [
    "from IPython.display import clear_output\n",
    "\n",
    "# Ask the user four bits of input: Do you want to : Show/Add/Delete or Quit?\n",
    "cart = {}\n",
    "\n",
    "while True:\n",
    "    action = input(\"What are we doing? \\n\" \n",
    "                   \"'show' to see cart. \\n\" \n",
    "                   \"'add' to buy more groceries. \\n\"\n",
    "                   \"'remove' to take an item out. \\n\"\n",
    "                   \"'quit' to stop shopping. \\n\"\n",
    "                   \"\\nWe want to: \" ).lower()\n",
    "    \n",
    "    # if they say quit\n",
    "    if action == \"quit\":\n",
    "        print(f\"I'll Miss you :(\")\n",
    "        break\n",
    "        \n",
    "    # if they say show\n",
    "    elif action == \"show\":\n",
    "        \n",
    "        if cart:\n",
    "            for item, count in cart.items():\n",
    "                print(f\"we have {count} {item}\")\n",
    "                \n",
    "        else:\n",
    "            print(f\"{cart} <--- empty our shopping cart is \\n\")\n",
    "\n",
    "    # if they say add\n",
    "    elif action == \"add\":\n",
    "        \n",
    "        item = input(\"What are we buying: \").lower()\n",
    "        if item != \"quit\":\n",
    "            \n",
    "            while True:\n",
    "                count = input(f\"How many {item} are we buying: \")\n",
    "                print(\"\\n\")\n",
    "                \n",
    "                # check to make sure count is an integer \n",
    "                if count.isdigit():\n",
    "                    count = int(count)\n",
    "                    break\n",
    "                    \n",
    "                else:\n",
    "                    print(\"Not a number G \\n\")\n",
    "            \n",
    "            # incremementing count by count\n",
    "            if item in cart:\n",
    "                cart[item] += count\n",
    "            \n",
    "            # stays at count\n",
    "            else:\n",
    "                cart[item] = count\n",
    "            \n",
    "    # if they say delete\n",
    "    elif action == \"remove\":\n",
    "        \n",
    "        if cart:\n",
    "            item = input(\"What item are we removing: \").lower()\n",
    "            \n",
    "            if item in cart:\n",
    "                count = int(input(f\"How many of {item} are we removing: \"))\n",
    "                \n",
    "                # if remove count is greater, delete item althogether\n",
    "                if count >= cart[item]:\n",
    "                    del cart[item]\n",
    "                \n",
    "                # remove count from item count\n",
    "                else:\n",
    "                    cart[item] -= count\n",
    "                    \n",
    "            else:\n",
    "                print(f\"We can't remove {item}, since we don't have any {item}\")\n",
    "                \n",
    "        else:\n",
    "            print(f\"Deleting zero from zero is still zero \\n\")\n",
    "            \n",
    "    else:\n",
    "        print(\"Uhhh, no comprende. Try again \\n\")\n",
    "        # finishes loop goes back to stop\n",
    "    \n",
    "print(f\"\\n your shopping cart: {cart}\")"
   ]
  },
  {
   "cell_type": "markdown",
   "metadata": {},
   "source": [
    "### 2) Set Practice"
   ]
  },
  {
   "cell_type": "markdown",
   "metadata": {},
   "source": [
    "<p><b>Remove all duplicates from the following list</b></p>"
   ]
  },
  {
   "cell_type": "code",
   "execution_count": 99,
   "metadata": {},
   "outputs": [
    {
     "name": "stdout",
     "output_type": "stream",
     "text": [
      "{1, 2, 3, 4, 5, 6, 11, 12, 14, 16}  or  [1, 2, 3, 4, 5, 6, 11, 12, 14, 16]\n"
     ]
    }
   ],
   "source": [
    "nums_list = [1, 1, 1, 2, 2, 3, 5, 6, 4, 12, 11, 12, 12, 14, 16, 16, 16, 1, 1, 1, 2, 2]\n",
    "\n",
    "no_dup = set(nums_list)\n",
    "\n",
    "print(no_dup, \" or \", list(no_dup))"
   ]
  },
  {
   "cell_type": "markdown",
   "metadata": {},
   "source": [
    "<p><b>Out put the intersection of the following the following sets.</b></p>"
   ]
  },
  {
   "cell_type": "code",
   "execution_count": 102,
   "metadata": {},
   "outputs": [
    {
     "name": "stdout",
     "output_type": "stream",
     "text": [
      "{26, 27}  or  {26, 27}\n"
     ]
    }
   ],
   "source": [
    "set1 = {20, 24, 26, 27}\n",
    "set2 = {26, 35, 63, 27}\n",
    "\n",
    "set3 = set1.intersection(set2)\n",
    "set4 = set1 & set2\n",
    "\n",
    "print(set3, \" or \", set4)"
   ]
  },
  {
   "cell_type": "markdown",
   "metadata": {},
   "source": [
    "<p><b>Output the difference between the following sets</b></p>"
   ]
  },
  {
   "cell_type": "code",
   "execution_count": 103,
   "metadata": {},
   "outputs": [
    {
     "name": "stdout",
     "output_type": "stream",
     "text": [
      "{89, 100}  or  {54, 103}\n"
     ]
    }
   ],
   "source": [
    "set3 = {100, 65, 89, 200}\n",
    "set4 = {65, 103, 54, 200}\n",
    "\n",
    "three_greater_four = set3.difference(set4)\n",
    "four_greater_three = set4.difference(set3)\n",
    "\n",
    "print(three_greater_four, \" or \", four_greater_three)"
   ]
  }
 ],
 "metadata": {
  "kernelspec": {
   "display_name": "Python 3 (ipykernel)",
   "language": "python",
   "name": "python3"
  },
  "language_info": {
   "codemirror_mode": {
    "name": "ipython",
    "version": 3
   },
   "file_extension": ".py",
   "mimetype": "text/x-python",
   "name": "python",
   "nbconvert_exporter": "python",
   "pygments_lexer": "ipython3",
   "version": "3.11.5"
  }
 },
 "nbformat": 4,
 "nbformat_minor": 2
}
